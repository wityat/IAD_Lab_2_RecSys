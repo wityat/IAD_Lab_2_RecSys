{
 "cells": [
  {
   "cell_type": "markdown",
   "metadata": {
    "id": "pzjJmipNdE5C"
   },
   "source": [
    "# Майнор \"Интеллектуальный анализ данных\""
   ]
  },
  {
   "cell_type": "markdown",
   "metadata": {
    "id": "p5CAd5PydE5F"
   },
   "source": [
    "# Курс \"Прикладные задачи анализа данных\""
   ]
  },
  {
   "cell_type": "markdown",
   "metadata": {
    "id": "_jOeICYddE5H"
   },
   "source": [
    "## Лабораторная работа №2. RecSys"
   ]
  },
  {
   "cell_type": "markdown",
   "metadata": {
    "id": "3y3wRRLjdE5M"
   },
   "source": [
    "В рамках данной лабораторной работы вам предлагается решить задачу рекомендательной системы на основе следующих данных:"
   ]
  },
  {
   "cell_type": "markdown",
   "metadata": {
    "id": "xLTO8m79dE5P"
   },
   "source": [
    "* **rating.csv** - рейтинги аниме по 10 бальной шкале\n",
    "* **anime.csv** - описание items"
   ]
  },
  {
   "cell_type": "markdown",
   "metadata": {
    "id": "CgwRYPq2dE5R"
   },
   "source": [
    "Скачать данные можно [здесь](https://drive.google.com/drive/u/1/folders/1FarHUuqQq4tQSlERB9K8uEfZAZT9tQWv)"
   ]
  },
  {
   "cell_type": "markdown",
   "metadata": {
    "id": "_8bp-ZPsdE5S"
   },
   "source": [
    "# Данные"
   ]
  },
  {
   "cell_type": "markdown",
   "metadata": {
    "id": "NxEZGweQae4M"
   },
   "source": [
    "Данные содержат информацию об предподчтениях 73,516 пользователей в 12,294 аниме. Каждый пользователь может добавить аниме и выставить рейтниг.\n",
    "\n",
    "Anime.csv\n",
    "\n",
    "* anime_id - идентификатор аниме (items)\n",
    "* name - полное название аниме\n",
    "* genre - категория/категории для аниме (разделены запятой).\n",
    "* type - тип: movie, TV, OVA, etc.\n",
    "* episodes - количество эпизодов (для экранизаций)\n",
    "* rating - средний рейтинг по аниме.\n",
    "* members - количество членов коммьюнити к аниме\n",
    "\n",
    "Rating.csv\n",
    "\n",
    "* user_id - идентификатор пользователя (users)\n",
    "* anime_id - идентификатор аниме\n",
    "* rating - рейтинг пользователя по аниме (-1 пользователь смотрел, но не оставил рейтинг)."
   ]
  },
  {
   "cell_type": "markdown",
   "metadata": {
    "id": "8u9BlNv_dE53"
   },
   "source": [
    "### ``` Если вычеслительные ресурсы не позволяют решить задачу на всех данных, то необходимо это сделать на \"сэмпле\" данных (выбрав от 5% ids' для user и item). Этот же подход справедлив и для оценки работы алгоритомв```"
   ]
  },
  {
   "cell_type": "code",
   "execution_count": 1,
   "metadata": {},
   "outputs": [],
   "source": [
    "import numpy as np\n",
    "import pandas as pd"
   ]
  },
  {
   "cell_type": "code",
   "execution_count": 3,
   "metadata": {},
   "outputs": [],
   "source": [
    "# взяли больше чем 10 % данных, но это только для SVD-based алгоритмов\n",
    "# для нейронной колоборативной фильтрации будем использовать больше семплов, если позволит мощность\n",
    "\n",
    "# хотя, 800К это достаточно, получается репрезентативная выборка.\n",
    "\n",
    "num_count = 800000\n",
    "anime_count = 2000\n"
   ]
  },
  {
   "cell_type": "code",
   "execution_count": 4,
   "metadata": {},
   "outputs": [],
   "source": [
    "data = pd.read_csv(\"rating.csv\")\n",
    "anime = pd.read_csv(\"anime.csv\")"
   ]
  },
  {
   "cell_type": "code",
   "execution_count": 5,
   "metadata": {},
   "outputs": [],
   "source": [
    "data = data.head(num_count)\n",
    "\n",
    "data_array = data.values\n",
    "\n",
    "anime = anime[anime[\"anime_id\"] < anime_count]"
   ]
  },
  {
   "cell_type": "code",
   "execution_count": 8,
   "metadata": {},
   "outputs": [
    {
     "data": {
      "text/plain": [
       "(array([   1,    2,    3, ..., 7385, 7386, 7387], dtype=int64), 7387)"
      ]
     },
     "execution_count": 8,
     "metadata": {},
     "output_type": "execute_result"
    }
   ],
   "source": [
    "data.user_id.unique(), data.user_id.unique().size"
   ]
  },
  {
   "cell_type": "code",
   "execution_count": 9,
   "metadata": {},
   "outputs": [
    {
     "data": {
      "text/html": [
       "<div>\n",
       "<style scoped>\n",
       "    .dataframe tbody tr th:only-of-type {\n",
       "        vertical-align: middle;\n",
       "    }\n",
       "\n",
       "    .dataframe tbody tr th {\n",
       "        vertical-align: top;\n",
       "    }\n",
       "\n",
       "    .dataframe thead th {\n",
       "        text-align: right;\n",
       "    }\n",
       "</style>\n",
       "<table border=\"1\" class=\"dataframe\">\n",
       "  <thead>\n",
       "    <tr style=\"text-align: right;\">\n",
       "      <th></th>\n",
       "      <th>user_id</th>\n",
       "      <th>anime_id</th>\n",
       "      <th>rating</th>\n",
       "    </tr>\n",
       "  </thead>\n",
       "  <tbody>\n",
       "    <tr>\n",
       "      <th>0</th>\n",
       "      <td>1</td>\n",
       "      <td>20</td>\n",
       "      <td>-1</td>\n",
       "    </tr>\n",
       "    <tr>\n",
       "      <th>1</th>\n",
       "      <td>1</td>\n",
       "      <td>24</td>\n",
       "      <td>-1</td>\n",
       "    </tr>\n",
       "    <tr>\n",
       "      <th>2</th>\n",
       "      <td>1</td>\n",
       "      <td>79</td>\n",
       "      <td>-1</td>\n",
       "    </tr>\n",
       "    <tr>\n",
       "      <th>3</th>\n",
       "      <td>1</td>\n",
       "      <td>226</td>\n",
       "      <td>-1</td>\n",
       "    </tr>\n",
       "    <tr>\n",
       "      <th>4</th>\n",
       "      <td>1</td>\n",
       "      <td>241</td>\n",
       "      <td>-1</td>\n",
       "    </tr>\n",
       "    <tr>\n",
       "      <th>...</th>\n",
       "      <td>...</td>\n",
       "      <td>...</td>\n",
       "      <td>...</td>\n",
       "    </tr>\n",
       "    <tr>\n",
       "      <th>799995</th>\n",
       "      <td>7387</td>\n",
       "      <td>1689</td>\n",
       "      <td>9</td>\n",
       "    </tr>\n",
       "    <tr>\n",
       "      <th>799996</th>\n",
       "      <td>7387</td>\n",
       "      <td>1698</td>\n",
       "      <td>10</td>\n",
       "    </tr>\n",
       "    <tr>\n",
       "      <th>799997</th>\n",
       "      <td>7387</td>\n",
       "      <td>1840</td>\n",
       "      <td>8</td>\n",
       "    </tr>\n",
       "    <tr>\n",
       "      <th>799998</th>\n",
       "      <td>7387</td>\n",
       "      <td>1864</td>\n",
       "      <td>6</td>\n",
       "    </tr>\n",
       "    <tr>\n",
       "      <th>799999</th>\n",
       "      <td>7387</td>\n",
       "      <td>1961</td>\n",
       "      <td>-1</td>\n",
       "    </tr>\n",
       "  </tbody>\n",
       "</table>\n",
       "<p>800000 rows × 3 columns</p>\n",
       "</div>"
      ],
      "text/plain": [
       "        user_id  anime_id  rating\n",
       "0             1        20      -1\n",
       "1             1        24      -1\n",
       "2             1        79      -1\n",
       "3             1       226      -1\n",
       "4             1       241      -1\n",
       "...         ...       ...     ...\n",
       "799995     7387      1689       9\n",
       "799996     7387      1698      10\n",
       "799997     7387      1840       8\n",
       "799998     7387      1864       6\n",
       "799999     7387      1961      -1\n",
       "\n",
       "[800000 rows x 3 columns]"
      ]
     },
     "execution_count": 9,
     "metadata": {},
     "output_type": "execute_result"
    }
   ],
   "source": [
    "data"
   ]
  },
  {
   "cell_type": "code",
   "execution_count": 11,
   "metadata": {},
   "outputs": [],
   "source": [
    "unique_users = data[\"user_id\"].unique().size\n",
    "matrix = np.zeros(\n",
    "    (unique_users, anime_count), \n",
    "    np.int16)\n",
    "\n",
    "c = [0] * anime_count\n",
    "for item in anime.values:\n",
    "    c[ item[0]-1] =  item[1]\n",
    "\n",
    "# matrix_data = pd.DataFrame(matrix, columns=c)"
   ]
  },
  {
   "cell_type": "code",
   "execution_count": 12,
   "metadata": {},
   "outputs": [
    {
     "data": {
      "text/plain": [
       "0"
      ]
     },
     "execution_count": 12,
     "metadata": {},
     "output_type": "execute_result"
    }
   ],
   "source": [
    "np.count_nonzero(matrix)"
   ]
  },
  {
   "cell_type": "code",
   "execution_count": 15,
   "metadata": {},
   "outputs": [],
   "source": [
    "for r in data_array:\n",
    "    if r[1] <= anime_count:\n",
    "        matrix[r[0] - 1][r[1] - 1] = r[2]\n",
    "        \n",
    "def fig(data):\n",
    "    sns_plot = sns.distplot(data, color=\"red\")\n",
    "    fig = sns_plot.get_figure()\n"
   ]
  },
  {
   "cell_type": "code",
   "execution_count": 16,
   "metadata": {},
   "outputs": [
    {
     "data": {
      "text/plain": [
       "254713"
      ]
     },
     "execution_count": 16,
     "metadata": {},
     "output_type": "execute_result"
    }
   ],
   "source": [
    "np.count_nonzero(matrix)"
   ]
  },
  {
   "cell_type": "code",
   "execution_count": 17,
   "metadata": {},
   "outputs": [],
   "source": [
    "def figure(data):\n",
    "    sns_plot = sns.distplot(data, color=\"purple\")\n",
    "    fig = sns_plot.get_figure()"
   ]
  },
  {
   "cell_type": "code",
   "execution_count": 26,
   "metadata": {},
   "outputs": [],
   "source": [
    "# подготовку завершили, можно посчитать статистику "
   ]
  },
  {
   "cell_type": "code",
   "execution_count": 27,
   "metadata": {},
   "outputs": [],
   "source": [
    "import warnings\n",
    "warnings.filterwarnings(\"ignore\")"
   ]
  },
  {
   "cell_type": "markdown",
   "metadata": {
    "id": "SngZt2vadE54"
   },
   "source": [
    "## Необходимо сделать:"
   ]
  },
  {
   "cell_type": "markdown",
   "metadata": {
    "id": "c_Lf3uQJdE55"
   },
   "source": [
    "### Задание №1 : Exploratory analysis (2 балла):\n",
    "\n",
    "* Распределение числа пользователей по количеству взаимодействий\n",
    "* Разпределение числа \"айтемов\" по количеству взаимодействий\n",
    "* Распределение числа рейтингов, средних рейтингов по пользователям, по \"айтемам\"\n",
    "* и т.д. (бонус)"
   ]
  },
  {
   "cell_type": "code",
   "execution_count": 21,
   "metadata": {},
   "outputs": [],
   "source": [
    "import seaborn as sns\n",
    "\n",
    "from matplotlib import pyplot as plt"
   ]
  },
  {
   "cell_type": "code",
   "execution_count": 22,
   "metadata": {},
   "outputs": [],
   "source": [
    "n = np.zeros(unique_users)\n",
    "\n",
    "for i, x in enumerate(matrix):\n",
    "    n[i] += np.count_nonzero(x)"
   ]
  },
  {
   "cell_type": "code",
   "execution_count": 23,
   "metadata": {},
   "outputs": [
    {
     "data": {
      "image/png": "[encoded data removed]",
      "text/plain": [
       "<Figure size 432x288 with 1 Axes>"
      ]
     },
     "metadata": {
      "needs_background": "light"
     },
     "output_type": "display_data"
    }
   ],
   "source": [
    "figure(n)"
   ]
  },
  {
   "cell_type": "code",
   "execution_count": 24,
   "metadata": {},
   "outputs": [],
   "source": [
    "n = np.zeros(anime_count) # разреженность по взаимодействиям с юзерами\n",
    "\n",
    "for i in range(anime_count):\n",
    "    x = matrix[:, i][matrix[:, i]!=0]\n",
    "    n[i] += np.count_nonzero(x)\n",
    "    \n"
   ]
  },
  {
   "cell_type": "code",
   "execution_count": 25,
   "metadata": {},
   "outputs": [
    {
     "data": {
      "image/png": "[encoded data removed]",
      "text/plain": [
       "<Figure size 432x288 with 1 Axes>"
      ]
     },
     "metadata": {
      "needs_background": "light"
     },
     "output_type": "display_data"
    }
   ],
   "source": [
    "figure(n) # разреженность по аниме (сколько взаимодействий)"
   ]
  },
  {
   "cell_type": "code",
   "execution_count": 28,
   "metadata": {},
   "outputs": [],
   "source": [
    "# видно, что выделяется 0, потому что данные разрежены, и у каждого почти семпла от силы по 5-10 оценок"
   ]
  },
  {
   "cell_type": "code",
   "execution_count": 33,
   "metadata": {},
   "outputs": [],
   "source": [
    "user_rating = np.zeros(unique_users)\n",
    "anime_rating = np.zeros(anime_count)\n",
    "\n",
    "for i, x in enumerate(matrix):\n",
    "    user_rating[i] = np.mean(x[x != 0])\n",
    "    \n",
    "for i in range(anime_count):\n",
    "    elem = matrix[:, i][matrix[:, i]!=0]\n",
    "    anime_rating[i] = np.mean(elem)"
   ]
  },
  {
   "cell_type": "code",
   "execution_count": 35,
   "metadata": {},
   "outputs": [
    {
     "data": {
      "image/png": "[encoded data removed]",
      "text/plain": [
       "<Figure size 432x288 with 1 Axes>"
      ]
     },
     "metadata": {
      "needs_background": "light"
     },
     "output_type": "display_data"
    }
   ],
   "source": [
    "fig(user_rating[user_rating != 0])"
   ]
  },
  {
   "cell_type": "code",
   "execution_count": 36,
   "metadata": {},
   "outputs": [
    {
     "data": {
      "image/png": "[encoded data removed]",
      "text/plain": [
       "<Figure size 432x288 with 1 Axes>"
      ]
     },
     "metadata": {
      "needs_background": "light"
     },
     "output_type": "display_data"
    }
   ],
   "source": [
    "fig(anime_rating)"
   ]
  },
  {
   "cell_type": "code",
   "execution_count": 38,
   "metadata": {},
   "outputs": [],
   "source": [
    "# вывод такой, что оценки имеют нормальное распределение"
   ]
  },
  {
   "cell_type": "markdown",
   "metadata": {
    "id": "hJYb7OM6dE56"
   },
   "source": [
    "### Задание №2 : Оценить разреженность данных по рейтингу (1/2 балла)"
   ]
  },
  {
   "cell_type": "code",
   "execution_count": 44,
   "metadata": {},
   "outputs": [],
   "source": [
    "# данные очень разреженные. \n",
    "\n",
    "# нарисуем карту температур и посмотрим на количество оценок от общего числа элементов в матрице рекомендаций"
   ]
  },
  {
   "cell_type": "code",
   "execution_count": 45,
   "metadata": {},
   "outputs": [
    {
     "data": {
      "text/plain": [
       "<AxesSubplot:>"
      ]
     },
     "execution_count": 45,
     "metadata": {},
     "output_type": "execute_result"
    },
    {
     "data": {
      "image/png": "[encoded data removed]",
      "text/plain": [
       "<Figure size 432x288 with 2 Axes>"
      ]
     },
     "metadata": {
      "needs_background": "light"
     },
     "output_type": "display_data"
    }
   ],
   "source": [
    "sns.heatmap(matrix)"
   ]
  },
  {
   "cell_type": "code",
   "execution_count": 46,
   "metadata": {},
   "outputs": [
    {
     "data": {
      "text/plain": [
       "0.017240625423040477"
      ]
     },
     "execution_count": 46,
     "metadata": {},
     "output_type": "execute_result"
    }
   ],
   "source": [
    "np.count_nonzero(matrix) / matrix.size"
   ]
  },
  {
   "cell_type": "markdown",
   "metadata": {
    "id": "jxVlXagNdE57"
   },
   "source": [
    "### Задание №3 : Разделить данные на тренировочные и валидационные (1/2 балла)"
   ]
  },
  {
   "cell_type": "code",
   "execution_count": 48,
   "metadata": {},
   "outputs": [],
   "source": [
    "train_svd = matrix[:4500]\n",
    "val_svd = matrix[4500:]"
   ]
  },
  {
   "cell_type": "code",
   "execution_count": 66,
   "metadata": {},
   "outputs": [],
   "source": [
    "def argmax(a, k):\n",
    "    return np.argpartition(a, -k)[-k:]"
   ]
  },
  {
   "cell_type": "code",
   "execution_count": 87,
   "metadata": {},
   "outputs": [],
   "source": [
    "data_train = data[:120_000]\n",
    "data_train = data_train[data_train.anime_id < anime_count]\n",
    "\n",
    "data_val = data[120_000:150_000]\n",
    "data_val = data_val[data_val.anime_id < anime_count]"
   ]
  },
  {
   "cell_type": "code",
   "execution_count": 88,
   "metadata": {},
   "outputs": [
    {
     "data": {
      "text/plain": [
       "(6130, 3)"
      ]
     },
     "execution_count": 88,
     "metadata": {},
     "output_type": "execute_result"
    }
   ],
   "source": [
    "data_val.shape"
   ]
  },
  {
   "cell_type": "markdown",
   "metadata": {
    "id": "LX78TCHFdE58"
   },
   "source": [
    "### Задание №4 : Решить задачу на основе предложения всем юзерам наиболее популярных item (1 балл)"
   ]
  },
  {
   "cell_type": "code",
   "execution_count": 54,
   "metadata": {},
   "outputs": [],
   "source": [
    "def max_pop_model(user_id, k=5):\n",
    "    train_volume = 500\n",
    "    var = matrix[np.random.choice(len(matrix), \n",
    "                                  size=train_volume, \n",
    "                                  replace=False)]\n",
    "    s = np.zeros(anime_count)\n",
    "    for i in range(anime_count):\n",
    "        s[i] = np.sum(var[:, i])\n",
    "        \n",
    "    return np.argpartition(s, -k)[-k:]"
   ]
  },
  {
   "cell_type": "code",
   "execution_count": 56,
   "metadata": {},
   "outputs": [],
   "source": [
    "pred = max_pop_model(0)"
   ]
  },
  {
   "cell_type": "code",
   "execution_count": 57,
   "metadata": {},
   "outputs": [
    {
     "data": {
      "text/html": [
       "<div>\n",
       "<style scoped>\n",
       "    .dataframe tbody tr th:only-of-type {\n",
       "        vertical-align: middle;\n",
       "    }\n",
       "\n",
       "    .dataframe tbody tr th {\n",
       "        vertical-align: top;\n",
       "    }\n",
       "\n",
       "    .dataframe thead th {\n",
       "        text-align: right;\n",
       "    }\n",
       "</style>\n",
       "<table border=\"1\" class=\"dataframe\">\n",
       "  <thead>\n",
       "    <tr style=\"text-align: right;\">\n",
       "      <th></th>\n",
       "      <th>anime_id</th>\n",
       "      <th>name</th>\n",
       "      <th>genre</th>\n",
       "      <th>type</th>\n",
       "      <th>episodes</th>\n",
       "      <th>rating</th>\n",
       "      <th>members</th>\n",
       "    </tr>\n",
       "  </thead>\n",
       "  <tbody>\n",
       "    <tr>\n",
       "      <th>817</th>\n",
       "      <td>474</td>\n",
       "      <td>Macross Plus</td>\n",
       "      <td>Drama, Mecha, Military, Romance, Sci-Fi, Space</td>\n",
       "      <td>OVA</td>\n",
       "      <td>4</td>\n",
       "      <td>7.82</td>\n",
       "      <td>23138</td>\n",
       "    </tr>\n",
       "    <tr>\n",
       "      <th>729</th>\n",
       "      <td>1887</td>\n",
       "      <td>Lucky☆Star</td>\n",
       "      <td>Comedy, Parody, School, Slice of Life</td>\n",
       "      <td>TV</td>\n",
       "      <td>24</td>\n",
       "      <td>7.87</td>\n",
       "      <td>305837</td>\n",
       "    </tr>\n",
       "    <tr>\n",
       "      <th>456</th>\n",
       "      <td>227</td>\n",
       "      <td>FLCL</td>\n",
       "      <td>Action, Comedy, Dementia, Mecha, Parody, Sci-Fi</td>\n",
       "      <td>OVA</td>\n",
       "      <td>6</td>\n",
       "      <td>8.06</td>\n",
       "      <td>305165</td>\n",
       "    </tr>\n",
       "    <tr>\n",
       "      <th>6551</th>\n",
       "      <td>858</td>\n",
       "      <td>Gunparade Orchestra</td>\n",
       "      <td>Drama, Mecha, Military, Romance, Sci-Fi, Slice...</td>\n",
       "      <td>TV</td>\n",
       "      <td>24</td>\n",
       "      <td>6.06</td>\n",
       "      <td>2816</td>\n",
       "    </tr>\n",
       "    <tr>\n",
       "      <th>6230</th>\n",
       "      <td>1055</td>\n",
       "      <td>Blame!</td>\n",
       "      <td>Mecha, Sci-Fi</td>\n",
       "      <td>ONA</td>\n",
       "      <td>6</td>\n",
       "      <td>6.20</td>\n",
       "      <td>13802</td>\n",
       "    </tr>\n",
       "  </tbody>\n",
       "</table>\n",
       "</div>"
      ],
      "text/plain": [
       "      anime_id                 name  \\\n",
       "817        474         Macross Plus   \n",
       "729       1887           Lucky☆Star   \n",
       "456        227                 FLCL   \n",
       "6551       858  Gunparade Orchestra   \n",
       "6230      1055               Blame!   \n",
       "\n",
       "                                                  genre type episodes  rating  \\\n",
       "817      Drama, Mecha, Military, Romance, Sci-Fi, Space  OVA        4    7.82   \n",
       "729               Comedy, Parody, School, Slice of Life   TV       24    7.87   \n",
       "456     Action, Comedy, Dementia, Mecha, Parody, Sci-Fi  OVA        6    8.06   \n",
       "6551  Drama, Mecha, Military, Romance, Sci-Fi, Slice...   TV       24    6.06   \n",
       "6230                                      Mecha, Sci-Fi  ONA        6    6.20   \n",
       "\n",
       "      members  \n",
       "817     23138  \n",
       "729    305837  \n",
       "456    305165  \n",
       "6551     2816  \n",
       "6230    13802  "
      ]
     },
     "execution_count": 57,
     "metadata": {},
     "output_type": "execute_result"
    }
   ],
   "source": [
    "anime.iloc[pred]"
   ]
  },
  {
   "cell_type": "markdown",
   "metadata": {
    "id": "W8jmqhiwdE59"
   },
   "source": [
    "### Задание №5 : Решить задачу на основе коллоборативной фильтрации (2 балла)\n",
    "\n",
    "* Реализовать один из методов коллоборативной фильтрации SVD, SVD++, ALS, ALS with implicit feedback"
   ]
  },
  {
   "cell_type": "code",
   "execution_count": 58,
   "metadata": {},
   "outputs": [],
   "source": [
    "# Будем решать на основе факторизационных векторов SVD\n",
    "# по факту эти вектора - своеобразные эмбединги"
   ]
  },
  {
   "cell_type": "code",
   "execution_count": 59,
   "metadata": {},
   "outputs": [],
   "source": [
    "from numpy.linalg import svd\n",
    "\n",
    "param = 32\n",
    "\n",
    "u, d, v = svd(matrix)\n",
    "\n",
    "U = u[:, :param]\n",
    "D = np.diag(d)[:param, :param]\n",
    "V = v[:param, :]"
   ]
  },
  {
   "cell_type": "code",
   "execution_count": 60,
   "metadata": {},
   "outputs": [],
   "source": [
    "svd_pred = U @ D @ V"
   ]
  },
  {
   "cell_type": "code",
   "execution_count": 64,
   "metadata": {},
   "outputs": [],
   "source": [
    "def svd_base_model(user_id, k=5):\n",
    "    return argmax(svd_pred[user_id], k)"
   ]
  },
  {
   "cell_type": "code",
   "execution_count": 67,
   "metadata": {},
   "outputs": [],
   "source": [
    "pred = svd_base_model(0)"
   ]
  },
  {
   "cell_type": "code",
   "execution_count": 68,
   "metadata": {},
   "outputs": [
    {
     "data": {
      "text/plain": [
       "array([148, 242,   5,   4,   0], dtype=int64)"
      ]
     },
     "execution_count": 68,
     "metadata": {},
     "output_type": "execute_result"
    }
   ],
   "source": [
    "pred"
   ]
  },
  {
   "cell_type": "code",
   "execution_count": 69,
   "metadata": {},
   "outputs": [
    {
     "data": {
      "text/html": [
       "<div>\n",
       "<style scoped>\n",
       "    .dataframe tbody tr th:only-of-type {\n",
       "        vertical-align: middle;\n",
       "    }\n",
       "\n",
       "    .dataframe tbody tr th {\n",
       "        vertical-align: top;\n",
       "    }\n",
       "\n",
       "    .dataframe thead th {\n",
       "        text-align: right;\n",
       "    }\n",
       "</style>\n",
       "<table border=\"1\" class=\"dataframe\">\n",
       "  <thead>\n",
       "    <tr style=\"text-align: right;\">\n",
       "      <th></th>\n",
       "      <th>anime_id</th>\n",
       "      <th>name</th>\n",
       "      <th>genre</th>\n",
       "      <th>type</th>\n",
       "      <th>episodes</th>\n",
       "      <th>rating</th>\n",
       "      <th>members</th>\n",
       "    </tr>\n",
       "  </thead>\n",
       "  <tbody>\n",
       "    <tr>\n",
       "      <th>550</th>\n",
       "      <td>597</td>\n",
       "      <td>Neko no Ongaeshi</td>\n",
       "      <td>Adventure, Drama, Fantasy</td>\n",
       "      <td>Movie</td>\n",
       "      <td>1</td>\n",
       "      <td>7.98</td>\n",
       "      <td>92499</td>\n",
       "    </tr>\n",
       "    <tr>\n",
       "      <th>884</th>\n",
       "      <td>531</td>\n",
       "      <td>Bishoujo Senshi Sailor Moon R: The Movie</td>\n",
       "      <td>Drama, Magic, Romance, Shoujo</td>\n",
       "      <td>Movie</td>\n",
       "      <td>1</td>\n",
       "      <td>7.78</td>\n",
       "      <td>33682</td>\n",
       "    </tr>\n",
       "    <tr>\n",
       "      <th>21</th>\n",
       "      <td>44</td>\n",
       "      <td>Rurouni Kenshin: Meiji Kenkaku Romantan - Tsui...</td>\n",
       "      <td>Action, Drama, Historical, Martial Arts, Roman...</td>\n",
       "      <td>OVA</td>\n",
       "      <td>4</td>\n",
       "      <td>8.83</td>\n",
       "      <td>129307</td>\n",
       "    </tr>\n",
       "    <tr>\n",
       "      <th>20</th>\n",
       "      <td>263</td>\n",
       "      <td>Hajime no Ippo</td>\n",
       "      <td>Comedy, Drama, Shounen, Sports</td>\n",
       "      <td>TV</td>\n",
       "      <td>75</td>\n",
       "      <td>8.83</td>\n",
       "      <td>157670</td>\n",
       "    </tr>\n",
       "    <tr>\n",
       "      <th>7</th>\n",
       "      <td>820</td>\n",
       "      <td>Ginga Eiyuu Densetsu</td>\n",
       "      <td>Drama, Military, Sci-Fi, Space</td>\n",
       "      <td>OVA</td>\n",
       "      <td>110</td>\n",
       "      <td>9.11</td>\n",
       "      <td>80679</td>\n",
       "    </tr>\n",
       "  </tbody>\n",
       "</table>\n",
       "</div>"
      ],
      "text/plain": [
       "     anime_id                                               name  \\\n",
       "550       597                                   Neko no Ongaeshi   \n",
       "884       531           Bishoujo Senshi Sailor Moon R: The Movie   \n",
       "21         44  Rurouni Kenshin: Meiji Kenkaku Romantan - Tsui...   \n",
       "20        263                                     Hajime no Ippo   \n",
       "7         820                               Ginga Eiyuu Densetsu   \n",
       "\n",
       "                                                 genre   type episodes  \\\n",
       "550                          Adventure, Drama, Fantasy  Movie        1   \n",
       "884                      Drama, Magic, Romance, Shoujo  Movie        1   \n",
       "21   Action, Drama, Historical, Martial Arts, Roman...    OVA        4   \n",
       "20                      Comedy, Drama, Shounen, Sports     TV       75   \n",
       "7                       Drama, Military, Sci-Fi, Space    OVA      110   \n",
       "\n",
       "     rating  members  \n",
       "550    7.98    92499  \n",
       "884    7.78    33682  \n",
       "21     8.83   129307  \n",
       "20     8.83   157670  \n",
       "7      9.11    80679  "
      ]
     },
     "execution_count": 69,
     "metadata": {},
     "output_type": "execute_result"
    }
   ],
   "source": [
    "anime.iloc[pred]"
   ]
  },
  {
   "cell_type": "code",
   "execution_count": 70,
   "metadata": {},
   "outputs": [
    {
     "data": {
      "text/html": [
       "<div>\n",
       "<style scoped>\n",
       "    .dataframe tbody tr th:only-of-type {\n",
       "        vertical-align: middle;\n",
       "    }\n",
       "\n",
       "    .dataframe tbody tr th {\n",
       "        vertical-align: top;\n",
       "    }\n",
       "\n",
       "    .dataframe thead th {\n",
       "        text-align: right;\n",
       "    }\n",
       "</style>\n",
       "<table border=\"1\" class=\"dataframe\">\n",
       "  <thead>\n",
       "    <tr style=\"text-align: right;\">\n",
       "      <th></th>\n",
       "      <th>anime_id</th>\n",
       "      <th>rating</th>\n",
       "      <th>members</th>\n",
       "    </tr>\n",
       "  </thead>\n",
       "  <tbody>\n",
       "    <tr>\n",
       "      <th>count</th>\n",
       "      <td>5.00000</td>\n",
       "      <td>5.000000</td>\n",
       "      <td>5.000000</td>\n",
       "    </tr>\n",
       "    <tr>\n",
       "      <th>mean</th>\n",
       "      <td>451.00000</td>\n",
       "      <td>8.506000</td>\n",
       "      <td>98767.400000</td>\n",
       "    </tr>\n",
       "    <tr>\n",
       "      <th>std</th>\n",
       "      <td>302.02235</td>\n",
       "      <td>0.587052</td>\n",
       "      <td>47446.748575</td>\n",
       "    </tr>\n",
       "    <tr>\n",
       "      <th>min</th>\n",
       "      <td>44.00000</td>\n",
       "      <td>7.780000</td>\n",
       "      <td>33682.000000</td>\n",
       "    </tr>\n",
       "    <tr>\n",
       "      <th>25%</th>\n",
       "      <td>263.00000</td>\n",
       "      <td>7.980000</td>\n",
       "      <td>80679.000000</td>\n",
       "    </tr>\n",
       "    <tr>\n",
       "      <th>50%</th>\n",
       "      <td>531.00000</td>\n",
       "      <td>8.830000</td>\n",
       "      <td>92499.000000</td>\n",
       "    </tr>\n",
       "    <tr>\n",
       "      <th>75%</th>\n",
       "      <td>597.00000</td>\n",
       "      <td>8.830000</td>\n",
       "      <td>129307.000000</td>\n",
       "    </tr>\n",
       "    <tr>\n",
       "      <th>max</th>\n",
       "      <td>820.00000</td>\n",
       "      <td>9.110000</td>\n",
       "      <td>157670.000000</td>\n",
       "    </tr>\n",
       "  </tbody>\n",
       "</table>\n",
       "</div>"
      ],
      "text/plain": [
       "        anime_id    rating        members\n",
       "count    5.00000  5.000000       5.000000\n",
       "mean   451.00000  8.506000   98767.400000\n",
       "std    302.02235  0.587052   47446.748575\n",
       "min     44.00000  7.780000   33682.000000\n",
       "25%    263.00000  7.980000   80679.000000\n",
       "50%    531.00000  8.830000   92499.000000\n",
       "75%    597.00000  8.830000  129307.000000\n",
       "max    820.00000  9.110000  157670.000000"
      ]
     },
     "execution_count": 70,
     "metadata": {},
     "output_type": "execute_result"
    }
   ],
   "source": [
    "anime.iloc[pred].describe()"
   ]
  },
  {
   "cell_type": "markdown",
   "metadata": {
    "id": "LFppc_bRdE6D"
   },
   "source": [
    "### Задание №6 Решить задачу на основе контент-based подхода, выбрав один из методов решения (2 балла):\n",
    "\n",
    "* На основание векторов с факторизационной матрицы\n",
    "* При помощи \"ембеддингов\"  item'ов"
   ]
  },
  {
   "cell_type": "code",
   "execution_count": 71,
   "metadata": {},
   "outputs": [],
   "source": [
    "# Совместим эти 2 метода. Используем всю информацию, чтобы обучить модель."
   ]
  },
  {
   "cell_type": "code",
   "execution_count": 72,
   "metadata": {},
   "outputs": [],
   "source": [
    "import torch\n",
    "from torch import nn\n",
    "\n",
    "dev = torch.device(\"cuda:0\")"
   ]
  },
  {
   "cell_type": "code",
   "execution_count": 73,
   "metadata": {},
   "outputs": [
    {
     "data": {
      "text/html": [
       "<div>\n",
       "<style scoped>\n",
       "    .dataframe tbody tr th:only-of-type {\n",
       "        vertical-align: middle;\n",
       "    }\n",
       "\n",
       "    .dataframe tbody tr th {\n",
       "        vertical-align: top;\n",
       "    }\n",
       "\n",
       "    .dataframe thead th {\n",
       "        text-align: right;\n",
       "    }\n",
       "</style>\n",
       "<table border=\"1\" class=\"dataframe\">\n",
       "  <thead>\n",
       "    <tr style=\"text-align: right;\">\n",
       "      <th></th>\n",
       "      <th>rating</th>\n",
       "      <th>members</th>\n",
       "    </tr>\n",
       "  </thead>\n",
       "  <tbody>\n",
       "    <tr>\n",
       "      <th>count</th>\n",
       "      <td>1821.000000</td>\n",
       "      <td>1.821000e+03</td>\n",
       "    </tr>\n",
       "    <tr>\n",
       "      <th>mean</th>\n",
       "      <td>7.009259</td>\n",
       "      <td>3.175434e+04</td>\n",
       "    </tr>\n",
       "    <tr>\n",
       "      <th>std</th>\n",
       "      <td>0.735607</td>\n",
       "      <td>7.064724e+04</td>\n",
       "    </tr>\n",
       "    <tr>\n",
       "      <th>min</th>\n",
       "      <td>2.370000</td>\n",
       "      <td>2.150000e+02</td>\n",
       "    </tr>\n",
       "    <tr>\n",
       "      <th>25%</th>\n",
       "      <td>6.570000</td>\n",
       "      <td>3.244000e+03</td>\n",
       "    </tr>\n",
       "    <tr>\n",
       "      <th>50%</th>\n",
       "      <td>7.050000</td>\n",
       "      <td>8.750000e+03</td>\n",
       "    </tr>\n",
       "    <tr>\n",
       "      <th>75%</th>\n",
       "      <td>7.480000</td>\n",
       "      <td>2.846200e+04</td>\n",
       "    </tr>\n",
       "    <tr>\n",
       "      <th>max</th>\n",
       "      <td>9.110000</td>\n",
       "      <td>1.013917e+06</td>\n",
       "    </tr>\n",
       "  </tbody>\n",
       "</table>\n",
       "</div>"
      ],
      "text/plain": [
       "            rating       members\n",
       "count  1821.000000  1.821000e+03\n",
       "mean      7.009259  3.175434e+04\n",
       "std       0.735607  7.064724e+04\n",
       "min       2.370000  2.150000e+02\n",
       "25%       6.570000  3.244000e+03\n",
       "50%       7.050000  8.750000e+03\n",
       "75%       7.480000  2.846200e+04\n",
       "max       9.110000  1.013917e+06"
      ]
     },
     "execution_count": 73,
     "metadata": {},
     "output_type": "execute_result"
    }
   ],
   "source": [
    "text_columns = [\"name\", \"genre\", ]\n",
    "categorical_columns = [\"type\", ]\n",
    "numeric_columns = [\"episodes\", \"rating\", \"members\", ]\n",
    "\n",
    "anime[categorical_columns] = anime[categorical_columns].fillna('NaN')\n",
    "anime[text_columns] = anime[text_columns].fillna('NaN')\n",
    "anime[numeric_columns] = anime[numeric_columns].fillna(0)\n",
    "anime[numeric_columns] = anime[numeric_columns].replace(\"Unknown\", 0)\n",
    "\n",
    "anime[numeric_columns].describe()"
   ]
  },
  {
   "cell_type": "code",
   "execution_count": 74,
   "metadata": {},
   "outputs": [],
   "source": [
    "from sklearn.preprocessing import MinMaxScaler\n",
    "scaler = MinMaxScaler()\n",
    "anime[numeric_columns] = scaler.fit_transform(anime[numeric_columns])"
   ]
  },
  {
   "cell_type": "code",
   "execution_count": 89,
   "metadata": {},
   "outputs": [],
   "source": [
    "from sklearn.feature_extraction import DictVectorizer\n",
    "from collections import Counter\n",
    "import nltk\n",
    "\n",
    "tokenizer = nltk.tokenize.WordPunctTokenizer()\n",
    "anime[text_columns] = anime[text_columns].applymap(lambda x: \" \".join(tokenizer.tokenize(x.lower())))\n",
    "\n",
    "token_counts = Counter()\n",
    "\n",
    "for col in text_columns:\n",
    "    for line in anime[col].values:\n",
    "        token_counts.update(line.split(\" \"))\n",
    "\n",
    "min_count = 10\n",
    "\n",
    "tokens = sorted(t for t, c in token_counts.items() if c >= min_count)\n",
    "\n",
    "UNK, PAD = \"UNK\", \"PAD\"\n",
    "tokens = [UNK, PAD] + tokens\n",
    "\n",
    "token_to_id = {t: i for i, t in enumerate(tokens)}\n",
    "\n",
    "UNK_IX, PAD_IX = map(token_to_id.get, [UNK, PAD])\n",
    "\n",
    "def as_matrix(sequences, max_len=None):\n",
    "    if isinstance(sequences[0], str):\n",
    "        sequences = list(map(str.split, sequences))\n",
    "        \n",
    "    max_len = min(max(map(len, sequences)), max_len or float('inf'))\n",
    "    \n",
    "    matrix = np.full((len(sequences), max_len), np.int32(PAD_IX))\n",
    "    for i,seq in enumerate(sequences):\n",
    "        row_ix = [token_to_id.get(word, UNK_IX) for word in seq[:max_len]]\n",
    "        matrix[i, :len(row_ix)] = row_ix\n",
    "    \n",
    "    return matrix\n",
    "\n",
    "anime_name_tokens = as_matrix(anime.name.array)\n",
    "\n",
    "NAME = np.zeros((anime_count, anime_name_tokens.shape[-1]))\n",
    "\n",
    "for i in range(len(anime_name_tokens)):\n",
    "    NAME[anime.iloc[i][\"anime_id\"] - 1] = anime_name_tokens[i]\n",
    "    \n",
    "anime_genre_tokens = as_matrix(anime.genre.array)\n",
    "\n",
    "GENRE = np.zeros((anime_count, anime_genre_tokens.shape[-1]))\n",
    "\n",
    "for i in range(len(anime_genre_tokens)):\n",
    "    GENRE[anime.iloc[i][\"anime_id\"] - 1] = anime_genre_tokens[i]\n",
    "    \n",
    "top_categories, top_counts = zip(*Counter(anime[\"type\"]).most_common(1000))\n",
    "recognized_categories = set(top_categories)\n",
    "anime[\"type\"] = anime[\"type\"].apply(lambda t: t if t in recognized_categories else \"Other\")\n",
    "\n",
    "categorical_vectorizer = DictVectorizer(dtype=np.float32, sparse=False)\n",
    "categorical_vectorizer.fit(anime[categorical_columns].apply(dict, axis=1))\n",
    "\n",
    "CATEGORICAL = np.zeros((anime_count, 6)) \n",
    "categorical = categorical_vectorizer.transform(anime[categorical_columns].apply(dict, axis=1))\n",
    "\n",
    "for i in range(len(categorical)):\n",
    "    CATEGORICAL[anime.iloc[i][\"anime_id\"] - 1] = categorical[i]\n",
    "\n",
    "NUMERICAL = np.zeros((anime_count, len(numeric_columns)))\n",
    "num = anime[numeric_columns].values\n",
    "\n",
    "for i in range(len(num)):\n",
    "    NUMERICAL[anime.iloc[i][\"anime_id\"] - 1] = num[i]\n",
    "    \n",
    "from torch.utils.data import Dataset, DataLoader\n",
    "\n",
    "class NCFData(Dataset):\n",
    "    \n",
    "    def __init__(self, data, dev):\n",
    "        self.data = data\n",
    "        self.dev = dev\n",
    "        \n",
    "    def __len__(self):\n",
    "        return len(self.data.values)\n",
    "    \n",
    "    def __getitem__(self, idx):\n",
    "        u_id = self.data.values[idx][0]\n",
    "        a_id = self.data.values[idx][1]\n",
    "        \n",
    "        label = self.data.values[idx][2]\n",
    "        \n",
    "        Ux = torch.Tensor(U[u_id - 1]).to(dev)\n",
    "        Vx = torch.Tensor(V[:, a_id - 1]).to(dev)\n",
    "        Name = torch.LongTensor(NAME[a_id - 1]).to(dev)\n",
    "        Genre = torch.LongTensor(GENRE[a_id - 1]).to(dev)\n",
    "        Cat = torch.Tensor(CATEGORICAL[a_id - 1]).to(dev)\n",
    "        Num = torch.Tensor(NUMERICAL[a_id - 1]).to(dev)\n",
    "        \n",
    "        return [[Ux, Vx, Name, Genre, Cat, Num], torch.Tensor([label]).to(self.dev)]"
   ]
  },
  {
   "cell_type": "code",
   "execution_count": 90,
   "metadata": {},
   "outputs": [],
   "source": [
    "dataset_train = NCFData(data_train, dev)\n",
    "dataset_val = NCFData(data_val, dev)"
   ]
  },
  {
   "cell_type": "code",
   "execution_count": 91,
   "metadata": {},
   "outputs": [],
   "source": [
    "batch_size = 50"
   ]
  },
  {
   "cell_type": "code",
   "execution_count": 92,
   "metadata": {},
   "outputs": [],
   "source": [
    "train_loader = DataLoader(dataset_train, batch_size=batch_size)\n",
    "val_loader = DataLoader(dataset_val, batch_size=batch_size)"
   ]
  },
  {
   "cell_type": "code",
   "execution_count": 93,
   "metadata": {},
   "outputs": [],
   "source": [
    "class Network(nn.Module):\n",
    "    \n",
    "    def __init__(self, emb_size=32, voc_size=len(tokens), k=10, linear_size=32):\n",
    "        super().__init__()\n",
    "        self.k = k\n",
    "        self.emb_size = emb_size\n",
    "        self.voc_size = voc_size\n",
    "        self.linear_size = linear_size\n",
    "        \n",
    "        self.U_linear = nn.Sequential(\n",
    "            nn.LazyLinear(linear_size),\n",
    "            nn.ReLU(),\n",
    "        )\n",
    "        \n",
    "        self.V_linear = nn.Sequential(\n",
    "            nn.LazyLinear(linear_size),\n",
    "            nn.ReLU(),\n",
    "        )\n",
    "        \n",
    "        self.U_V_linear = nn.Sequential(\n",
    "            nn.LazyLinear(linear_size),\n",
    "            nn.ReLU(),\n",
    "        )\n",
    "        \n",
    "        self.Embedder = nn.Embedding(voc_size, emb_size)\n",
    "        \n",
    "        self.N_encoder = nn.Sequential(\n",
    "            nn.LazyConv1d(linear_size, kernel_size=2),\n",
    "            nn.Dropout(p=0.2),\n",
    "            nn.ReLU(),\n",
    "            nn.AdaptiveMaxPool1d(output_size=linear_size // 2),\n",
    "            nn.Flatten(start_dim=1),\n",
    "        )\n",
    "        \n",
    "        self.G_encoder = nn.Sequential(\n",
    "            nn.LazyConv1d(linear_size, kernel_size=2),\n",
    "            nn.Dropout(p=0.2),\n",
    "            nn.ReLU(),\n",
    "            nn.AdaptiveMaxPool1d(output_size=linear_size // 2),\n",
    "            nn.Flatten(start_dim=1),\n",
    "        )\n",
    "        \n",
    "        self.C_linear = nn.Sequential(\n",
    "            nn.LazyLinear(linear_size),\n",
    "            nn.ReLU(),\n",
    "        )\n",
    "        \n",
    "        self.N2_linear = nn.Sequential(\n",
    "            nn.LazyLinear(linear_size),\n",
    "            nn.ReLU(),\n",
    "        )\n",
    "        \n",
    "        self.Filter = nn.Sequential(\n",
    "            nn.LazyLinear(linear_size * 8),\n",
    "            nn.ReLU(),\n",
    "            nn.LazyLinear(linear_size * 4),\n",
    "            nn.ReLU(),\n",
    "            nn.LazyLinear(1),\n",
    "        )\n",
    "        \n",
    "    def forward(self, batch):\n",
    "        U = batch[0]\n",
    "        V = batch[1]\n",
    "        N = batch[2]\n",
    "        G = batch[3]\n",
    "        C = batch[4]\n",
    "        N2 = batch[5]\n",
    "\n",
    "        U_features = self.U_linear(U)\n",
    "        V_features = self.V_linear(V)\n",
    "        UV_features = torch.cat([U_features, V_features], dim=1)\n",
    "        UV_features = self.U_V_linear(UV_features)\n",
    "        \n",
    "        N_emb = self.Embedder(N).permute(0, 2, 1)\n",
    "        G_emb = self.Embedder(G).permute(0, 2, 1)\n",
    "        \n",
    "        N_features = self.N_encoder(N_emb)\n",
    "        G_features = self.G_encoder(G_emb)\n",
    "        \n",
    "        C_features = self.C_linear(C)\n",
    "        N2_features = self.N2_linear(N2)\n",
    "        \n",
    "        \n",
    "        features = torch.cat(\n",
    "            [UV_features,\n",
    "            N_features,\n",
    "            G_features,\n",
    "            C_features,\n",
    "            N2_features,], dim=1\n",
    "        )\n",
    "        \n",
    "        prediction = self.Filter(features)\n",
    "        \n",
    "        return prediction"
   ]
  },
  {
   "cell_type": "code",
   "execution_count": 94,
   "metadata": {},
   "outputs": [],
   "source": [
    "from tqdm.notebook import tqdm"
   ]
  },
  {
   "cell_type": "code",
   "execution_count": 95,
   "metadata": {},
   "outputs": [],
   "source": [
    "model = Network().cuda()"
   ]
  },
  {
   "cell_type": "code",
   "execution_count": 96,
   "metadata": {},
   "outputs": [
    {
     "data": {
      "text/plain": [
       "Network(\n",
       "  (U_linear): Sequential(\n",
       "    (0): LazyLinear(in_features=0, out_features=32, bias=True)\n",
       "    (1): ReLU()\n",
       "  )\n",
       "  (V_linear): Sequential(\n",
       "    (0): LazyLinear(in_features=0, out_features=32, bias=True)\n",
       "    (1): ReLU()\n",
       "  )\n",
       "  (U_V_linear): Sequential(\n",
       "    (0): LazyLinear(in_features=0, out_features=32, bias=True)\n",
       "    (1): ReLU()\n",
       "  )\n",
       "  (Embedder): Embedding(158, 32)\n",
       "  (N_encoder): Sequential(\n",
       "    (0): LazyConv1d(0, 32, kernel_size=(2,), stride=(1,))\n",
       "    (1): Dropout(p=0.2, inplace=False)\n",
       "    (2): ReLU()\n",
       "    (3): AdaptiveMaxPool1d(output_size=16)\n",
       "    (4): Flatten(start_dim=1, end_dim=-1)\n",
       "  )\n",
       "  (G_encoder): Sequential(\n",
       "    (0): LazyConv1d(0, 32, kernel_size=(2,), stride=(1,))\n",
       "    (1): Dropout(p=0.2, inplace=False)\n",
       "    (2): ReLU()\n",
       "    (3): AdaptiveMaxPool1d(output_size=16)\n",
       "    (4): Flatten(start_dim=1, end_dim=-1)\n",
       "  )\n",
       "  (C_linear): Sequential(\n",
       "    (0): LazyLinear(in_features=0, out_features=32, bias=True)\n",
       "    (1): ReLU()\n",
       "  )\n",
       "  (N2_linear): Sequential(\n",
       "    (0): LazyLinear(in_features=0, out_features=32, bias=True)\n",
       "    (1): ReLU()\n",
       "  )\n",
       "  (Filter): Sequential(\n",
       "    (0): LazyLinear(in_features=0, out_features=256, bias=True)\n",
       "    (1): ReLU()\n",
       "    (2): LazyLinear(in_features=0, out_features=128, bias=True)\n",
       "    (3): ReLU()\n",
       "    (4): LazyLinear(in_features=0, out_features=1, bias=True)\n",
       "  )\n",
       ")"
      ]
     },
     "execution_count": 96,
     "metadata": {},
     "output_type": "execute_result"
    }
   ],
   "source": [
    "model"
   ]
  },
  {
   "cell_type": "code",
   "execution_count": 100,
   "metadata": {},
   "outputs": [],
   "source": [
    "def train(model, \n",
    "          epochs=10, \n",
    "          lr=0.001, \n",
    "          cr=torch.nn.MSELoss()):\n",
    "\n",
    "    opt = torch.optim.Adam(model.parameters(), lr=lr)\n",
    "    \n",
    "    losses = []\n",
    "    \n",
    "    for ep in range(epochs):\n",
    "        model.train()\n",
    "        train_loss = 0\n",
    "        c = 0\n",
    "        \n",
    "        for batch in tqdm(train_loader): \n",
    "            c += 1\n",
    "            labels = batch[1].squeeze()\n",
    "            out = model(batch[0]).squeeze()\n",
    "            opt.zero_grad()\n",
    "            loss = cr(out, labels)\n",
    "            loss.backward()\n",
    "            train_loss += loss.item()\n",
    "            opt.step()\n",
    "            losses.append(loss.item())\n",
    "            \n",
    "        train_loss /= c\n",
    "        loss_mean = 0\n",
    "        c = 0\n",
    "        \n",
    "        for batch in tqdm(val_loader):\n",
    "            c += 1\n",
    "            model.eval()\n",
    "            labels = batch[1].squeeze()\n",
    "            out = model(batch[0]).squeeze()\n",
    "            \n",
    "            with torch.no_grad():\n",
    "                loss = cr(out, labels)\n",
    "                loss_mean += loss.item()\n",
    "                \n",
    "        loss_mean /= c\n",
    "        \n",
    "        print(f\"Epoch {ep + 1} | train loss: {train_loss} | val loss: {loss_mean}\")\n",
    "\n",
    "    return losses"
   ]
  },
  {
   "cell_type": "code",
   "execution_count": 101,
   "metadata": {},
   "outputs": [
    {
     "data": {
      "application/vnd.jupyter.widget-view+json": {
       "model_id": "45a14b464a9a4cc48bec249506e9724c",
       "version_major": 2,
       "version_minor": 0
      },
      "text/plain": [
       "  0%|          | 0/541 [00:00<?, ?it/s]"
      ]
     },
     "metadata": {},
     "output_type": "display_data"
    },
    {
     "data": {
      "application/vnd.jupyter.widget-view+json": {
       "model_id": "575b671e2c794d23ba2436be6be02448",
       "version_major": 2,
       "version_minor": 0
      },
      "text/plain": [
       "  0%|          | 0/123 [00:00<?, ?it/s]"
      ]
     },
     "metadata": {},
     "output_type": "display_data"
    },
    {
     "name": "stdout",
     "output_type": "stream",
     "text": [
      "Epoch 1 | train loss: 16.42715541756748 | val loss: 14.03309831192823\n"
     ]
    },
    {
     "data": {
      "application/vnd.jupyter.widget-view+json": {
       "model_id": "368663db8245429b9361482e6fc60fae",
       "version_major": 2,
       "version_minor": 0
      },
      "text/plain": [
       "  0%|          | 0/541 [00:00<?, ?it/s]"
      ]
     },
     "metadata": {},
     "output_type": "display_data"
    },
    {
     "data": {
      "application/vnd.jupyter.widget-view+json": {
       "model_id": "3cffbc5729e742bca5415b9abc5c9dbe",
       "version_major": 2,
       "version_minor": 0
      },
      "text/plain": [
       "  0%|          | 0/123 [00:00<?, ?it/s]"
      ]
     },
     "metadata": {},
     "output_type": "display_data"
    },
    {
     "name": "stdout",
     "output_type": "stream",
     "text": [
      "Epoch 2 | train loss: 15.39529270054893 | val loss: 13.826259187566556\n"
     ]
    },
    {
     "data": {
      "application/vnd.jupyter.widget-view+json": {
       "model_id": "a2305cb07eac4649a0631de73aabc7e8",
       "version_major": 2,
       "version_minor": 0
      },
      "text/plain": [
       "  0%|          | 0/541 [00:00<?, ?it/s]"
      ]
     },
     "metadata": {},
     "output_type": "display_data"
    },
    {
     "data": {
      "application/vnd.jupyter.widget-view+json": {
       "model_id": "4f3a3f217d1c4776b9e7b203e9162b64",
       "version_major": 2,
       "version_minor": 0
      },
      "text/plain": [
       "  0%|          | 0/123 [00:00<?, ?it/s]"
      ]
     },
     "metadata": {},
     "output_type": "display_data"
    },
    {
     "name": "stdout",
     "output_type": "stream",
     "text": [
      "Epoch 3 | train loss: 12.838946283304317 | val loss: 12.235074832187436\n"
     ]
    },
    {
     "data": {
      "application/vnd.jupyter.widget-view+json": {
       "model_id": "d2baf52304734c11822ab108ba458f03",
       "version_major": 2,
       "version_minor": 0
      },
      "text/plain": [
       "  0%|          | 0/541 [00:00<?, ?it/s]"
      ]
     },
     "metadata": {},
     "output_type": "display_data"
    },
    {
     "data": {
      "application/vnd.jupyter.widget-view+json": {
       "model_id": "97887c461efc4012b85267df89ad3c80",
       "version_major": 2,
       "version_minor": 0
      },
      "text/plain": [
       "  0%|          | 0/123 [00:00<?, ?it/s]"
      ]
     },
     "metadata": {},
     "output_type": "display_data"
    },
    {
     "name": "stdout",
     "output_type": "stream",
     "text": [
      "Epoch 4 | train loss: 10.896652597816948 | val loss: 11.467914277945107\n"
     ]
    },
    {
     "data": {
      "application/vnd.jupyter.widget-view+json": {
       "model_id": "2080c8480f30499ebdc2aa54e4e6853e",
       "version_major": 2,
       "version_minor": 0
      },
      "text/plain": [
       "  0%|          | 0/541 [00:00<?, ?it/s]"
      ]
     },
     "metadata": {},
     "output_type": "display_data"
    },
    {
     "data": {
      "application/vnd.jupyter.widget-view+json": {
       "model_id": "8ceae59dec464f7eb4df588d03499f00",
       "version_major": 2,
       "version_minor": 0
      },
      "text/plain": [
       "  0%|          | 0/123 [00:00<?, ?it/s]"
      ]
     },
     "metadata": {},
     "output_type": "display_data"
    },
    {
     "name": "stdout",
     "output_type": "stream",
     "text": [
      "Epoch 5 | train loss: 9.72380376897766 | val loss: 10.706897036816047\n"
     ]
    },
    {
     "data": {
      "application/vnd.jupyter.widget-view+json": {
       "model_id": "a73a110f5627402f8f863ae87b62a87f",
       "version_major": 2,
       "version_minor": 0
      },
      "text/plain": [
       "  0%|          | 0/541 [00:00<?, ?it/s]"
      ]
     },
     "metadata": {},
     "output_type": "display_data"
    },
    {
     "data": {
      "application/vnd.jupyter.widget-view+json": {
       "model_id": "68691e6f4ff247409c0ae38de93df95e",
       "version_major": 2,
       "version_minor": 0
      },
      "text/plain": [
       "  0%|          | 0/123 [00:00<?, ?it/s]"
      ]
     },
     "metadata": {},
     "output_type": "display_data"
    },
    {
     "name": "stdout",
     "output_type": "stream",
     "text": [
      "Epoch 6 | train loss: 8.607527365415683 | val loss: 9.917966715688628\n"
     ]
    },
    {
     "data": {
      "application/vnd.jupyter.widget-view+json": {
       "model_id": "b19dd492ac304e5d99126692fd1d3284",
       "version_major": 2,
       "version_minor": 0
      },
      "text/plain": [
       "  0%|          | 0/541 [00:00<?, ?it/s]"
      ]
     },
     "metadata": {},
     "output_type": "display_data"
    },
    {
     "data": {
      "application/vnd.jupyter.widget-view+json": {
       "model_id": "2ae5073fb1cb438e9e81fd91b3824b03",
       "version_major": 2,
       "version_minor": 0
      },
      "text/plain": [
       "  0%|          | 0/123 [00:00<?, ?it/s]"
      ]
     },
     "metadata": {},
     "output_type": "display_data"
    },
    {
     "name": "stdout",
     "output_type": "stream",
     "text": [
      "Epoch 7 | train loss: 7.843745787571186 | val loss: 9.548764662044805\n"
     ]
    },
    {
     "data": {
      "application/vnd.jupyter.widget-view+json": {
       "model_id": "3ed62c49657b4e9b9b321409ef89d58d",
       "version_major": 2,
       "version_minor": 0
      },
      "text/plain": [
       "  0%|          | 0/541 [00:00<?, ?it/s]"
      ]
     },
     "metadata": {},
     "output_type": "display_data"
    },
    {
     "data": {
      "application/vnd.jupyter.widget-view+json": {
       "model_id": "7ef71a133d3146febb8279b362176498",
       "version_major": 2,
       "version_minor": 0
      },
      "text/plain": [
       "  0%|          | 0/123 [00:00<?, ?it/s]"
      ]
     },
     "metadata": {},
     "output_type": "display_data"
    },
    {
     "name": "stdout",
     "output_type": "stream",
     "text": [
      "Epoch 8 | train loss: 7.325748225801423 | val loss: 9.584250469517901\n"
     ]
    },
    {
     "data": {
      "application/vnd.jupyter.widget-view+json": {
       "model_id": "5701161eb9484b7c953a2a9ee41c6ec3",
       "version_major": 2,
       "version_minor": 0
      },
      "text/plain": [
       "  0%|          | 0/541 [00:00<?, ?it/s]"
      ]
     },
     "metadata": {},
     "output_type": "display_data"
    },
    {
     "data": {
      "application/vnd.jupyter.widget-view+json": {
       "model_id": "a869c4097e15400dbc7134dd4ec2ff0c",
       "version_major": 2,
       "version_minor": 0
      },
      "text/plain": [
       "  0%|          | 0/123 [00:00<?, ?it/s]"
      ]
     },
     "metadata": {},
     "output_type": "display_data"
    },
    {
     "name": "stdout",
     "output_type": "stream",
     "text": [
      "Epoch 9 | train loss: 6.960881782974531 | val loss: 9.291818781596858\n"
     ]
    },
    {
     "data": {
      "application/vnd.jupyter.widget-view+json": {
       "model_id": "b0be89a8f57347aeb5fa1bd67485b21e",
       "version_major": 2,
       "version_minor": 0
      },
      "text/plain": [
       "  0%|          | 0/541 [00:00<?, ?it/s]"
      ]
     },
     "metadata": {},
     "output_type": "display_data"
    },
    {
     "data": {
      "application/vnd.jupyter.widget-view+json": {
       "model_id": "78d5b4f4ee4e40418f2899cb4e018905",
       "version_major": 2,
       "version_minor": 0
      },
      "text/plain": [
       "  0%|          | 0/123 [00:00<?, ?it/s]"
      ]
     },
     "metadata": {},
     "output_type": "display_data"
    },
    {
     "name": "stdout",
     "output_type": "stream",
     "text": [
      "Epoch 10 | train loss: 6.704807043454288 | val loss: 9.326218943649192\n"
     ]
    }
   ],
   "source": [
    "train_losses = train(model)"
   ]
  },
  {
   "cell_type": "code",
   "execution_count": 102,
   "metadata": {},
   "outputs": [
    {
     "data": {
      "text/plain": [
       "[<matplotlib.lines.Line2D at 0x2229d63d8e0>]"
      ]
     },
     "execution_count": 102,
     "metadata": {},
     "output_type": "execute_result"
    },
    {
     "data": {
      "image/png": "[encoded data removed]",
      "text/plain": [
       "<Figure size 432x288 with 1 Axes>"
      ]
     },
     "metadata": {
      "needs_background": "light"
     },
     "output_type": "display_data"
    }
   ],
   "source": [
    "plt.plot(train_losses)"
   ]
  },
  {
   "cell_type": "markdown",
   "metadata": {
    "id": "XmWhAehidE6G"
   },
   "source": [
    "### Задание №7 Оценить работу алгоритмов выбрав одну из метрик, сделать вывод по результатам работы (2 балла):\n",
    "\n",
    "* MAP@k\n",
    "* NDCG@k\n",
    "* MRR"
   ]
  },
  {
   "cell_type": "code",
   "execution_count": 103,
   "metadata": {},
   "outputs": [],
   "source": [
    "from ml_metrics import mapk"
   ]
  },
  {
   "cell_type": "code",
   "execution_count": 104,
   "metadata": {},
   "outputs": [],
   "source": [
    "def inference(user_id, \n",
    "              data_class, \n",
    "              model):\n",
    "    \n",
    "    test_id = user_id\n",
    "    test_batch_array = [[test_id, x, -1] for x in range(anime_count)] \n",
    "    \n",
    "    test = pd.DataFrame(test_batch_array, columns=data.columns) \n",
    "    \n",
    "    test_data = data_class(test, dev)\n",
    "    \n",
    "    test_loader = DataLoader(test_data, batch_size=10) \n",
    "    \n",
    "    \n",
    "    preds = []\n",
    "    recs = []\n",
    "    pred = []\n",
    "    \n",
    "    model.eval()\n",
    "    \n",
    "    for batch in test_loader:\n",
    "        p = model(batch[0])\n",
    "        pred.append(p)\n",
    "    \n",
    "    final = torch.cat(pred, dim=1)\n",
    "    return final\n",
    "\n",
    "def make_mapk(model, \n",
    "              data_class):\n",
    "    \n",
    "    user_list = list(range(100))\n",
    "    \n",
    "    preds = []\n",
    "    \n",
    "    for user in user_list:\n",
    "        pred = forward_model(user, data_class, model)\n",
    "        preds.append(pred.detach().cpu().numpy().tolist())\n",
    "        \n",
    "    targets = []\n",
    "    \n",
    "    for eval_user in gen_list:\n",
    "        targets.append(matrix[eval_user].tolist())\n",
    "        \n",
    "    return mapk(preds, targets)"
   ]
  },
  {
   "cell_type": "code",
   "execution_count": 105,
   "metadata": {},
   "outputs": [
    {
     "name": "stdout",
     "output_type": "stream",
     "text": [
      "0.7035881435257411\n"
     ]
    }
   ],
   "source": [
    "make_mapk(model, NCFData)"
   ]
  },
  {
   "cell_type": "code",
   "execution_count": null,
   "metadata": {},
   "outputs": [],
   "source": []
  },
  {
   "cell_type": "code",
   "execution_count": null,
   "metadata": {},
   "outputs": [],
   "source": []
  },
  {
   "cell_type": "code",
   "execution_count": null,
   "metadata": {},
   "outputs": [],
   "source": []
  },
  {
   "cell_type": "code",
   "execution_count": null,
   "metadata": {},
   "outputs": [],
   "source": []
  },
  {
   "cell_type": "markdown",
   "metadata": {
    "id": "wn3bRKEgdE6I"
   },
   "source": [
    "``` Бонус (1 балл) - дополнительные графики и характеристики в EDA и правильно сделанные выводы```"
   ]
  },
  {
   "cell_type": "markdown",
   "metadata": {},
   "source": [
    "##### Выводы по результатам работы.\n",
    "\n",
    "##### Базовая модель на основе максимального количества взаимодействий и рейтинга детерминированна относительно пользователя, поэтому не дает каких-то практических результатов.\n",
    "\n",
    "##### SVD - оптимальна для небольшой выборки, т.к. алгоритмы факторизации не позволяют работать с большими объемами информации. SVD дает интуитивно \"понятные\" рекомендации. Даже на глаз видно, что все они похожи. Жанр, количество зрителей, тип аниме. Все кореллирует и вполне релевантно.\n",
    "\n",
    "##### Регрессия по оценкам с помощью NCF дала результат чуть хуже, чем алгоритмы, осованные на коллаборативной фильтрации с помощью факторизации. Тем не менее, учитывались множество скрытых параметров, которые не смогли дать алгоритмы, основанные на классическом подходе. NCF  имеет бесконечный потенциал для улучшения, который выходит за рамки лабораторной работы. А я научился оперировать данными алгоритмами на достаточном уровне, чтобы написать собственную системуЮ основанную на похожем типе данных."
   ]
  },
  {
   "cell_type": "markdown",
   "metadata": {
    "id": "RlItEwxHdE6J"
   },
   "source": [
    "# ```Дедлайн - 08 июня 23:59```"
   ]
  },
  {
   "cell_type": "code",
   "execution_count": null,
   "metadata": {
    "id": "TkENzPdyae4T"
   },
   "outputs": [],
   "source": []
  }
 ],
 "metadata": {
  "colab": {
   "name": "Lab #2-RecSys.ipynb",
   "provenance": []
  },
  "kernelspec": {
   "display_name": "Python 3 (ipykernel)",
   "language": "python",
   "name": "python3"
  },
  "language_info": {
   "codemirror_mode": {
    "name": "ipython",
    "version": 3
   },
   "file_extension": ".py",
   "mimetype": "text/x-python",
   "name": "python",
   "nbconvert_exporter": "python",
   "pygments_lexer": "ipython3",
   "version": "3.9.6"
  }
 },
 "nbformat": 4,
 "nbformat_minor": 1
}
